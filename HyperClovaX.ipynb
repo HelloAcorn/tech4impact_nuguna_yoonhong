{
 "cells": [
  {
   "cell_type": "code",
   "execution_count": null,
   "metadata": {},
   "outputs": [],
   "source": [
    "from naver import ChatClovaX  # 로컬에 만든 naver.py 파일에서 import\n",
    "from langchain_core.messages import SystemMessage, HumanMessage\n",
    "\n",
    "\n",
    "chat = ChatClovaX(\n",
    "    ncp_clovastudio_api_key=\"YOUR_API_KEY\",\n",
    "    ncp_apigw_api_key=\"YOUR_API_KEY\",\n",
    "    model_name=\"HCX-003\",\n",
    "    temperature=0.1,\n",
    "    top_p=0.8,\n",
    "    top_k=0,\n",
    "    max_tokens=300,\n",
    "    repeat_penalty=0.09,\n",
    "    include_ai_filters=True,\n",
    "    seed=0\n",
    ")\n",
    "\n",
    "# 메시지 설정\n",
    "messages = [\n",
    "    SystemMessage(content=\"\"\"#역할\n",
    "    당신은 문장을 CommonConversation와 Text-To-SQL 둘중 하나로만 판별하는 판독기입니다.\n",
    "    주어진 문장을 잘 읽고, step-by-step 생각하여 판단해주세요.\n",
    "    대답은 반드시 CommonConversation or Text-To-SQL 둘 중 하나의 대답으로만 해주세요. 다른 대답은 용서치 않습니다.\n",
    "    \"\"\"),\n",
    "    HumanMessage(content=\"아 집에가고싶다.\")\n",
    "]"
   ]
  },
  {
   "cell_type": "code",
   "execution_count": 6,
   "metadata": {},
   "outputs": [
    {
     "name": "stdout",
     "output_type": "stream",
     "text": [
      "CommonConversation\n"
     ]
    }
   ],
   "source": [
    "# 동기 방식으로 실행\n",
    "response = chat.invoke(messages)\n",
    "print(response.content)"
   ]
  }
 ],
 "metadata": {
  "kernelspec": {
   "display_name": "LangChain03Env",
   "language": "python",
   "name": "python3"
  },
  "language_info": {
   "codemirror_mode": {
    "name": "ipython",
    "version": 3
   },
   "file_extension": ".py",
   "mimetype": "text/x-python",
   "name": "python",
   "nbconvert_exporter": "python",
   "pygments_lexer": "ipython3",
   "version": "3.10.15"
  }
 },
 "nbformat": 4,
 "nbformat_minor": 2
}
