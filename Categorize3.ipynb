{
 "cells": [
  {
   "cell_type": "code",
   "execution_count": 7,
   "metadata": {},
   "outputs": [
    {
     "name": "stdout",
     "output_type": "stream",
     "text": [
      "0.3.4\n"
     ]
    }
   ],
   "source": [
    "import langchain\n",
    "print(langchain.__version__)"
   ]
  },
  {
   "cell_type": "code",
   "execution_count": 8,
   "metadata": {},
   "outputs": [],
   "source": [
    "from typing import TypedDict\n",
    "\n",
    "\n",
    "# GraphState 상태를 저장하는 용도로 사용합니다.\n",
    "class GraphState(TypedDict):\n",
    "    question: str  # 질문\n",
    "    answer: str  # 답변"
   ]
  },
  {
   "cell_type": "code",
   "execution_count": 9,
   "metadata": {},
   "outputs": [],
   "source": [
    "from langchain_core.prompts import ChatPromptTemplate\n",
    "from langchain_openai import ChatOpenAI\n",
    "from langchain_core.output_parsers import StrOutputParser\n",
    "import os\n",
    "\n",
    "llm = ChatOpenAI(\n",
    "        temperature=0.0,\n",
    "        max_tokens=300,\n",
    "        model=\"gpt-4o-mini\",\n",
    "        api_key=os.environ.get(\"OPENAI_API_KEY\")\n",
    ")\n",
    "\n",
    "# 관련성을 확인하는 함수, 단순히 True 또는 False를 반환\n",
    "def check_question(state: GraphState) -> str:\n",
    "    return \"False\"\n",
    "\n",
    "#\n",
    "def llm_answer(state: GraphState) -> GraphState:\n",
    "    answer = llm.invoke(state[\"question\"])  # 문자열로 질문을 전달\n",
    "    return GraphState(\n",
    "        question=state[\"question\"],\n",
    "        answer=answer,\n",
    "    )\n",
    "\n",
    "def rewrite(state):\n",
    "    question = state[\"question\"]\n",
    "    prompt = ChatPromptTemplate.from_messages(\n",
    "        [\n",
    "            (\n",
    "                \"system\",\n",
    "                \"You are a professional prompt rewriter. Your task is to improve the question. Question must be written in same language. Don't narrate, just reponse an improved question.\",\n",
    "            ),\n",
    "            (\n",
    "                \"human\",\n",
    "                \"Look at the input and try to reason about the underlying semantic intent / meaning.\"\n",
    "                \"\\n\\nHere is the initial question:\\n ------- \\n{question}\\n ------- \\n\"\n",
    "                \"\\n\\nFormulate an improved question:\",\n",
    "            ),\n",
    "        ]\n",
    "    )\n",
    "\n",
    "    # Question rewriting model\n",
    "    model = ChatOpenAI(\n",
    "        temperature=0.0,\n",
    "        max_tokens=300,\n",
    "        model=\"gpt-4o-mini\",\n",
    "        api_key=os.environ.get(\"OPENAI_API_KEY\")\n",
    "    )\n",
    "\n",
    "    chain = prompt | model | StrOutputParser()\n",
    "    response = chain.invoke({\"question\": question})\n",
    "    return GraphState(\n",
    "        question=response, answer=state[\"answer\"]\n",
    "    )\n"
   ]
  },
  {
   "cell_type": "code",
   "execution_count": 19,
   "metadata": {},
   "outputs": [],
   "source": [
    "from langgraph.graph import END, StateGraph\n",
    "\n",
    "# langgraph.graph에서 StateGraph와 END를 가져옵니다.\n",
    "workflow = StateGraph(GraphState)\n",
    "\n",
    "# 노드들을 정의합니다.\n",
    "workflow.add_node(\"llm_answer\", llm_answer)  # 정보 검색 노드를 추가합니다.\n",
    "workflow.add_node(\"rewrite_question\", rewrite)  # 질문을 재작성하는 노드를 추가합니다.\n",
    "\n",
    "# 각 노드들을 연결합니다.\n",
    "workflow.add_edge(\"rewrite_question\", \"llm_answer\")  # 재작성 -> 관련성 체크\n",
    "# 조건부 엣지를 추가합니다.\n",
    "workflow.add_conditional_edges(\n",
    "    \"llm_answer\",  \n",
    "    check_question,\n",
    "    {\n",
    "        \"True\": END,  # 관련성이 있으면 종료합니다.\n",
    "        \"False\": \"rewrite_question\",  # 관련성이 없으면 다시 답변을 생성합니다.\n",
    "    },\n",
    ")\n",
    "\n",
    "\n",
    "workflow.set_entry_point(\"llm_answer\")\n",
    "\n",
    "# Workflow 설정에서 불필요한 메모리 체크포인트 및 조건부 엣지를 제거했습니다.\n",
    "app = workflow.compile()\n"
   ]
  },
  {
   "cell_type": "code",
   "execution_count": 20,
   "metadata": {},
   "outputs": [
    {
     "data": {
      "image/jpeg": "[encoded data removed]",
      "text/plain": [
       "<IPython.core.display.Image object>"
      ]
     },
     "metadata": {},
     "output_type": "display_data"
    }
   ],
   "source": [
    "from IPython.display import Image, display\n",
    "\n",
    "try:\n",
    "    display(\n",
    "        Image(app.get_graph(xray=True).draw_mermaid_png())\n",
    "    )  # 실행 가능한 객체의 그래프를 mermaid 형식의 PNG로 그려서 표시합니다. xray=True는 추가적인 세부 정보를 포함합니다.\n",
    "except:\n",
    "    # 이 부분은 추가적인 의존성이 필요하며 선택적으로 실행됩니다.\n",
    "    pass"
   ]
  },
  {
   "cell_type": "code",
   "execution_count": 21,
   "metadata": {},
   "outputs": [
    {
     "name": "stdout",
     "output_type": "stream",
     "text": [
      "\"Output from node 'llm_answer':\"\n",
      "'---'\n",
      "{ 'answer': AIMessage(content='죄송하지만, 특정 날짜의 YouTube 비디오 방문자 수와 같은 실시간 데이터나 특정 통계 정보를 제공할 수는 없습니다. YouTube의 방문자 수는 비공식적이며, 각 비디오의 조회수는 비디오 소유자나 YouTube의 공식 통계에서 확인할 수 있습니다. 특정 비디오의 조회수를 알고 싶다면 해당 비디오를 직접 확인해 보시기 바랍니다.', additional_kwargs={'refusal': None}, response_metadata={'token_usage': {'completion_tokens': 89, 'prompt_tokens': 20, 'total_tokens': 109, 'completion_tokens_details': {'audio_tokens': 0, 'reasoning_tokens': 0, 'accepted_prediction_tokens': 0, 'rejected_prediction_tokens': 0}, 'prompt_tokens_details': {'audio_tokens': 0, 'cached_tokens': 0}}, 'model_name': 'gpt-4o-mini-2024-07-18', 'system_fingerprint': 'fp_0ba0d124f1', 'finish_reason': 'stop', 'logprobs': None}, id='run-e0b4a0e8-1ef3-4609-9619-eb53e9129381-0', usage_metadata={'input_tokens': 20, 'output_tokens': 89, 'total_tokens': 109, 'input_token_details': {'audio': 0, 'cache_read': 0}, 'output_token_details': {'audio': 0, 'reasoning': 0}}),\n",
      "  'question': '10월 31일 youtube/video 방문자수를 알려줘.'}\n",
      "'\\n---\\n'\n",
      "\"Output from node 'rewrite_question':\"\n",
      "'---'\n",
      "{ 'answer': AIMessage(content='죄송하지만, 특정 날짜의 YouTube 비디오 방문자 수와 같은 실시간 데이터나 특정 통계 정보를 제공할 수는 없습니다. YouTube의 방문자 수는 비공식적이며, 각 비디오의 조회수는 비디오 소유자나 YouTube의 공식 통계에서 확인할 수 있습니다. 특정 비디오의 조회수를 알고 싶다면 해당 비디오를 직접 확인해 보시기 바랍니다.', additional_kwargs={'refusal': None}, response_metadata={'token_usage': {'completion_tokens': 89, 'prompt_tokens': 20, 'total_tokens': 109, 'completion_tokens_details': {'audio_tokens': 0, 'reasoning_tokens': 0, 'accepted_prediction_tokens': 0, 'rejected_prediction_tokens': 0}, 'prompt_tokens_details': {'audio_tokens': 0, 'cached_tokens': 0}}, 'model_name': 'gpt-4o-mini-2024-07-18', 'system_fingerprint': 'fp_0ba0d124f1', 'finish_reason': 'stop', 'logprobs': None}, id='run-e0b4a0e8-1ef3-4609-9619-eb53e9129381-0', usage_metadata={'input_tokens': 20, 'output_tokens': 89, 'total_tokens': 109, 'input_token_details': {'audio': 0, 'cache_read': 0}, 'output_token_details': {'audio': 0, 'reasoning': 0}}),\n",
      "  'question': '10월 31일의 YouTube 비디오 방문자 수를 알려줄 수 있나요?'}\n",
      "'\\n---\\n'\n",
      "\"Output from node 'llm_answer':\"\n",
      "'---'\n",
      "{ 'answer': AIMessage(content='죄송하지만, 특정 날짜의 YouTube 비디오 방문자 수와 같은 실시간 데이터나 특정 통계 정보를 제공할 수는 없습니다. YouTube 비디오의 방문자 수는 비공식적인 경우가 많고, 각 비디오의 소유자만이 정확한 데이터를 확인할 수 있습니다. 특정 비디오의 방문자 수를 알고 싶다면 해당 비디오의 페이지를 직접 확인해 보시기 바랍니다.', additional_kwargs={'refusal': None}, response_metadata={'token_usage': {'completion_tokens': 90, 'prompt_tokens': 27, 'total_tokens': 117, 'completion_tokens_details': {'audio_tokens': 0, 'reasoning_tokens': 0, 'accepted_prediction_tokens': 0, 'rejected_prediction_tokens': 0}, 'prompt_tokens_details': {'audio_tokens': 0, 'cached_tokens': 0}}, 'model_name': 'gpt-4o-mini-2024-07-18', 'system_fingerprint': 'fp_0ba0d124f1', 'finish_reason': 'stop', 'logprobs': None}, id='run-c80e501b-92b2-418e-8116-e29f4e9097d3-0', usage_metadata={'input_tokens': 27, 'output_tokens': 90, 'total_tokens': 117, 'input_token_details': {'audio': 0, 'cache_read': 0}, 'output_token_details': {'audio': 0, 'reasoning': 0}}),\n",
      "  'question': '10월 31일의 YouTube 비디오 방문자 수를 알려줄 수 있나요?'}\n",
      "'\\n---\\n'\n",
      "\"Output from node 'rewrite_question':\"\n",
      "'---'\n",
      "{ 'answer': AIMessage(content='죄송하지만, 특정 날짜의 YouTube 비디오 방문자 수와 같은 실시간 데이터나 특정 통계 정보를 제공할 수는 없습니다. YouTube 비디오의 방문자 수는 비공식적인 경우가 많고, 각 비디오의 소유자만이 정확한 데이터를 확인할 수 있습니다. 특정 비디오의 방문자 수를 알고 싶다면 해당 비디오의 페이지를 직접 확인해 보시기 바랍니다.', additional_kwargs={'refusal': None}, response_metadata={'token_usage': {'completion_tokens': 90, 'prompt_tokens': 27, 'total_tokens': 117, 'completion_tokens_details': {'audio_tokens': 0, 'reasoning_tokens': 0, 'accepted_prediction_tokens': 0, 'rejected_prediction_tokens': 0}, 'prompt_tokens_details': {'audio_tokens': 0, 'cached_tokens': 0}}, 'model_name': 'gpt-4o-mini-2024-07-18', 'system_fingerprint': 'fp_0ba0d124f1', 'finish_reason': 'stop', 'logprobs': None}, id='run-c80e501b-92b2-418e-8116-e29f4e9097d3-0', usage_metadata={'input_tokens': 27, 'output_tokens': 90, 'total_tokens': 117, 'input_token_details': {'audio': 0, 'cache_read': 0}, 'output_token_details': {'audio': 0, 'reasoning': 0}}),\n",
      "  'question': '10월 31일에 업로드된 YouTube 비디오의 방문자 수를 알려주실 수 있나요?'}\n",
      "'\\n---\\n'\n",
      "\"Output from node 'llm_answer':\"\n",
      "'---'\n",
      "{ 'answer': AIMessage(content='죄송하지만, 특정 날짜에 업로드된 YouTube 비디오의 방문자 수를 실시간으로 확인할 수는 없습니다. YouTube 비디오의 조회수는 비공식적인 데이터이며, 해당 비디오의 소유자나 YouTube 플랫폼에서 직접 확인해야 합니다. 특정 비디오에 대한 정보를 알고 싶으시다면, 해당 비디오의 링크를 통해 조회수를 확인해 보시기 바랍니다.', additional_kwargs={'refusal': None}, response_metadata={'token_usage': {'completion_tokens': 88, 'prompt_tokens': 32, 'total_tokens': 120, 'completion_tokens_details': {'audio_tokens': 0, 'reasoning_tokens': 0, 'accepted_prediction_tokens': 0, 'rejected_prediction_tokens': 0}, 'prompt_tokens_details': {'audio_tokens': 0, 'cached_tokens': 0}}, 'model_name': 'gpt-4o-mini-2024-07-18', 'system_fingerprint': 'fp_0ba0d124f1', 'finish_reason': 'stop', 'logprobs': None}, id='run-2a52207a-d683-467b-804f-5fa201d1feb8-0', usage_metadata={'input_tokens': 32, 'output_tokens': 88, 'total_tokens': 120, 'input_token_details': {'audio': 0, 'cache_read': 0}, 'output_token_details': {'audio': 0, 'reasoning': 0}}),\n",
      "  'question': '10월 31일에 업로드된 YouTube 비디오의 방문자 수를 알려주실 수 있나요?'}\n",
      "'\\n---\\n'\n",
      "('Recursion limit reached: Recursion limit of 5 reached without hitting a stop '\n",
      " 'condition. You can increase the limit by setting the `recursion_limit` '\n",
      " 'config key.\\n'\n",
      " 'For troubleshooting, visit: '\n",
      " 'https://python.langchain.com/docs/troubleshooting/errors/GRAPH_RECURSION_LIMIT')\n"
     ]
    }
   ],
   "source": [
    "import pprint\n",
    "from langgraph.errors import GraphRecursionError\n",
    "from langchain_core.runnables import RunnableConfig\n",
    "\n",
    "config = RunnableConfig(\n",
    "    recursion_limit=5, configurable={\"thread_id\": \"CORRECTIVE-RAG\"}\n",
    ")\n",
    "\n",
    "# AgentState 객체를 활용하여 질문을 입력합니다.\n",
    "inputs = GraphState(\n",
    "    question=\"10월 31일 youtube/video 방문자수를 알려줘.\"\n",
    ")\n",
    "\n",
    "# app.stream을 통해 입력된 메시지에 대한 출력을 스트리밍합니다.\n",
    "try:\n",
    "    for output in app.stream(inputs, config=config):\n",
    "        # 출력된 결과에서 키와 값을 순회합니다.\n",
    "        for key, value in output.items():\n",
    "            # 노드의 이름과 해당 노드에서 나온 출력을 출력합니다.\n",
    "            pprint.pprint(f\"Output from node '{key}':\")\n",
    "            pprint.pprint(\"---\")\n",
    "            # 출력 값을 예쁘게 출력합니다.\n",
    "            pprint.pprint(value, indent=2, width=80, depth=None)\n",
    "        # 각 출력 사이에 구분선을 추가합니다.\n",
    "        pprint.pprint(\"\\n---\\n\")\n",
    "except GraphRecursionError as e:\n",
    "    pprint.pprint(f\"Recursion limit reached: {e}\")"
   ]
  }
 ],
 "metadata": {
  "kernelspec": {
   "display_name": "LangChain03Env",
   "language": "python",
   "name": "python3"
  },
  "language_info": {
   "codemirror_mode": {
    "name": "ipython",
    "version": 3
   },
   "file_extension": ".py",
   "mimetype": "text/x-python",
   "name": "python",
   "nbconvert_exporter": "python",
   "pygments_lexer": "ipython3",
   "version": "3.10.15"
  }
 },
 "nbformat": 4,
 "nbformat_minor": 2
}
