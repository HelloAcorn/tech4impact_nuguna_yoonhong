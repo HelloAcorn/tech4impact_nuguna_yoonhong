{
 "cells": [
  {
   "cell_type": "code",
   "execution_count": 1,
   "metadata": {},
   "outputs": [
    {
     "name": "stdout",
     "output_type": "stream",
     "text": [
      "0.3.4\n"
     ]
    }
   ],
   "source": [
    "import langchain\n",
    "print(langchain.__version__)"
   ]
  },
  {
   "cell_type": "code",
   "execution_count": null,
   "metadata": {},
   "outputs": [],
   "source": [
    "from langchain_openai import ChatOpenAI\n",
    "import os\n",
    "from typing import Union\n",
    "from pydantic import BaseModel, Field\n",
    "\n",
    "llm = ChatOpenAI(\n",
    "    temperature=0.0,\n",
    "    max_tokens=300,\n",
    "    model=\"gpt-4o-mini\",\n",
    "    api_key=os.environ.get(\"OPENAI_API_KEY\")\n",
    ")\n",
    "\n",
    "# Pydantic 모델 정의\n",
    "class CommonConversation(BaseModel):\n",
    "     \"\"\"Text to SQL Prompt Instruction\"\"\"\n",
    "     common_conversation: str = Field(\n",
    "        description = \"\"\"\n",
    "        너는 \"누구나데이터\"의 직원으로써, 사용자를 친절하게 응대해줘.\n",
    "        사용자가 어려움을 겪으면 사업자번호인 010-1234-5678로 응대해줘.\n",
    "        \"\"\"\n",
    "    )\n",
    "\n",
    "class TextToSQL(BaseModel):\n",
    "    \"\"\"Common conversation Prompt Instruction\"\"\"\n",
    "    TextToSQL: str = \"\"\"\n",
    "        Please write ONLY the SQL query according to this schema.\n",
    "    \"\"\"\n",
    "    difficulty: str = Field(\n",
    "        default=\"easy\",\n",
    "        enum=[\"easy\", \"normal\", \"hard\"],\n",
    "        description=\"\"\"\n",
    "        Please measure the SQL conversion difficulty for this request. The difficulty levels are easy normal hard.\n",
    "        \"\"\"\n",
    "    )\n",
    "\n",
    "class Response(BaseModel):\n",
    "    output: Union[CommonConversation, TextToSQL]\n",
    "\n",
    "# 구조화된 출력 LLM 구성\n",
    "structured_llm = llm.with_structured_output(Response)\n",
    "\n"
   ]
  },
  {
   "cell_type": "code",
   "execution_count": 29,
   "metadata": {},
   "outputs": [
    {
     "data": {
      "text/plain": [
       "Response(output=CommonConversation(TextToSQL='SELECT COUNT(*) FROM users WHERE last_login >= NOW() - INTERVAL 7 DAY;', difficulty='easy'))"
      ]
     },
     "execution_count": 29,
     "metadata": {},
     "output_type": "execute_result"
    }
   ],
   "source": [
    "# 의사 분류기 테스트\n",
    "result = structured_llm.invoke(\"저번주에 로그인한 유저수\")\n",
    "result"
   ]
  },
  {
   "cell_type": "code",
   "execution_count": 30,
   "metadata": {},
   "outputs": [
    {
     "data": {
      "text/plain": [
       "Response(output=TextToSQL(common_conversation='Why was the cat sitting on the computer? Because it wanted to keep an eye on the mouse!'))"
      ]
     },
     "execution_count": 30,
     "metadata": {},
     "output_type": "execute_result"
    }
   ],
   "source": [
    "result = structured_llm.invoke(\"Tell me a joke about cats\")\n",
    "result"
   ]
  },
  {
   "cell_type": "code",
   "execution_count": 31,
   "metadata": {},
   "outputs": [
    {
     "data": {
      "text/plain": [
       "Response(output=TextToSQL(common_conversation='안녕하세요! 어떤 문제가 있으신가요? 저희가 도와드릴 수 있는 부분이 있다면 말씀해 주세요. 만약 특정 유저에 대한 문제가 심각하다면, 사업자번호 010-1234-5678로 연락해 주시면 더욱 자세히 도와드리겠습니다.'))"
      ]
     },
     "execution_count": 31,
     "metadata": {},
     "output_type": "execute_result"
    }
   ],
   "source": [
    "result = structured_llm.invoke(\"저번주에 로그인한 유저가 마음에 안들어.\")\n",
    "result"
   ]
  }
 ],
 "metadata": {
  "kernelspec": {
   "display_name": "LangChain03Env",
   "language": "python",
   "name": "python3"
  },
  "language_info": {
   "codemirror_mode": {
    "name": "ipython",
    "version": 3
   },
   "file_extension": ".py",
   "mimetype": "text/x-python",
   "name": "python",
   "nbconvert_exporter": "python",
   "pygments_lexer": "ipython3",
   "version": "3.10.15"
  }
 },
 "nbformat": 4,
 "nbformat_minor": 2
}
