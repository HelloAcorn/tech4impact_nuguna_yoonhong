{
 "cells": [
  {
   "cell_type": "code",
   "execution_count": 1,
   "metadata": {},
   "outputs": [
    {
     "name": "stdout",
     "output_type": "stream",
     "text": [
      "0.3.4\n"
     ]
    }
   ],
   "source": [
    "import langchain\n",
    "print(langchain.__version__)"
   ]
  },
  {
   "cell_type": "code",
   "execution_count": 2,
   "metadata": {},
   "outputs": [],
   "source": [
    "from langchain_openai import ChatOpenAI\n",
    "import os\n",
    "from typing import Union\n",
    "from pydantic import BaseModel, Field\n",
    "\n",
    "llm = ChatOpenAI(\n",
    "    temperature=0.0,\n",
    "    max_tokens=300,\n",
    "    model=\"gpt-4o-mini\",\n",
    "    api_key=os.environ.get(\"OPENAI_API_KEY\")\n",
    ")\n",
    "\n",
    "# Pydantic 모델 정의\n",
    "class CommonConversation(BaseModel):\n",
    "    \"\"\"Common conversation Prompt Instruction\"\"\"\n",
    "    common_conversation: str = Field(\n",
    "        description = \"\"\"\n",
    "        너는 \"누구나데이터\"의 직원으로써, 사용자를 친절하게 응대해줘.\n",
    "        사용자가 어려움을 겪으면 사업자번호인 010-1234-5678로 응대해줘.\n",
    "        \"\"\"\n",
    "    )\n",
    "\n",
    "class TextToSQL(BaseModel):\n",
    "    \"\"\"Text to SQL Prompt Instruction\"\"\"\n",
    "    SQLQuery: str = \"\"\"\n",
    "        Please write ONLY the SQL query according to this schema.\n",
    "    \"\"\"\n",
    "    difficulty: str = Field(\n",
    "        default=\"easy\",\n",
    "        enum=[\"easy\", \"normal\", \"hard\"],\n",
    "        description=\"\"\"\n",
    "        Please measure the SQL conversion difficulty for this request. The difficulty levels are easy normal hard.\n",
    "        \"\"\"\n",
    "    )\n",
    "\n",
    "    def generate_prompt(self, schema: str, filter: str, example: str, query: str) -> str:\n",
    "        self.SQLQuery = self.SQLQuery.format(schema=schema, filter=filter, example=example, query=query)\n",
    "        return self.SQLQuery\n",
    "\n",
    "class Response(BaseModel):\n",
    "    \"\"\"User intent classifier for CommonConversation and Text-To-SQL.\"\"\"\n",
    "    output: Union[CommonConversation, TextToSQL]\n",
    "\n",
    "# 구조화된 출력 LLM 구성\n",
    "structured_llm = llm.with_structured_output(Response)\n",
    "\n"
   ]
  },
  {
   "cell_type": "code",
   "execution_count": 3,
   "metadata": {},
   "outputs": [],
   "source": [
    "# 의사 분류기 테스트\n",
    "result = structured_llm.invoke(\"저번주에 로그인한 유저수\")"
   ]
  },
  {
   "cell_type": "code",
   "execution_count": 4,
   "metadata": {},
   "outputs": [
    {
     "data": {
      "text/plain": [
       "Response(output=TextToSQL(SQLQuery='SELECT COUNT(*) FROM users WHERE login_date >= DATE_SUB(CURDATE(), INTERVAL 7 DAY) AND login_date < CURDATE();', difficulty='easy'))"
      ]
     },
     "execution_count": 4,
     "metadata": {},
     "output_type": "execute_result"
    }
   ],
   "source": [
    "result"
   ]
  },
  {
   "cell_type": "code",
   "execution_count": null,
   "metadata": {},
   "outputs": [],
   "source": [
    "from naver import ChatClovaX  # 로컬에 만든 naver.py 파일에서 import\n",
    "from langchain_core.messages import SystemMessage, HumanMessage\n",
    "\n",
    "\n",
    "chat = ChatClovaX(\n",
    "    ncp_clovastudio_api_key=\"YOUR_API_KEY\",\n",
    "    ncp_apigw_api_key=\"YOUR_API_KEY\",\n",
    "    model_name=\"HCX-003\",\n",
    "    temperature=0.1,\n",
    "    top_p=0.8,\n",
    "    top_k=0,\n",
    "    max_tokens=300,\n",
    "    repeat_penalty=0.09,## HyperClova X 적용\n",
    "    include_ai_filters=True,\n",
    "    seed=0\n",
    ")\n"
   ]
  },
  {
   "cell_type": "code",
   "execution_count": 6,
   "metadata": {},
   "outputs": [
    {
     "ename": "NotImplementedError",
     "evalue": "",
     "output_type": "error",
     "traceback": [
      "\u001b[0;31m---------------------------------------------------------------------------\u001b[0m",
      "\u001b[0;31mNotImplementedError\u001b[0m                       Traceback (most recent call last)",
      "Cell \u001b[0;32mIn[6], line 2\u001b[0m\n\u001b[1;32m      1\u001b[0m \u001b[38;5;66;03m# 의사 분류기 테스트\u001b[39;00m\n\u001b[0;32m----> 2\u001b[0m clovaX_structed_llm \u001b[38;5;241m=\u001b[39m \u001b[43mchat\u001b[49m\u001b[38;5;241;43m.\u001b[39;49m\u001b[43mwith_structured_output\u001b[49m\u001b[43m(\u001b[49m\u001b[43mResponse\u001b[49m\u001b[43m)\u001b[49m\n\u001b[1;32m      3\u001b[0m result \u001b[38;5;241m=\u001b[39m clovaX_structed_llm\u001b[38;5;241m.\u001b[39minvoke(\u001b[38;5;124m\"\u001b[39m\u001b[38;5;124m저번주에 로그인한 유저수\u001b[39m\u001b[38;5;124m\"\u001b[39m)\n",
      "File \u001b[0;32m/DATA/acorn/anaconda3/envs/LangChain03Env/lib/python3.10/site-packages/langchain_core/language_models/chat_models.py:1238\u001b[0m, in \u001b[0;36mBaseChatModel.with_structured_output\u001b[0;34m(self, schema, include_raw, **kwargs)\u001b[0m\n\u001b[1;32m   1236\u001b[0m     msg \u001b[38;5;241m=\u001b[39m \u001b[38;5;124m\"\u001b[39m\u001b[38;5;124mwith_structured_output is not implemented for this model.\u001b[39m\u001b[38;5;124m\"\u001b[39m\n\u001b[1;32m   1237\u001b[0m     \u001b[38;5;28;01mraise\u001b[39;00m \u001b[38;5;167;01mNotImplementedError\u001b[39;00m(msg)\n\u001b[0;32m-> 1238\u001b[0m llm \u001b[38;5;241m=\u001b[39m \u001b[38;5;28;43mself\u001b[39;49m\u001b[38;5;241;43m.\u001b[39;49m\u001b[43mbind_tools\u001b[49m\u001b[43m(\u001b[49m\u001b[43m[\u001b[49m\u001b[43mschema\u001b[49m\u001b[43m]\u001b[49m\u001b[43m,\u001b[49m\u001b[43m \u001b[49m\u001b[43mtool_choice\u001b[49m\u001b[38;5;241;43m=\u001b[39;49m\u001b[38;5;124;43m\"\u001b[39;49m\u001b[38;5;124;43many\u001b[39;49m\u001b[38;5;124;43m\"\u001b[39;49m\u001b[43m)\u001b[49m\n\u001b[1;32m   1239\u001b[0m \u001b[38;5;28;01mif\u001b[39;00m \u001b[38;5;28misinstance\u001b[39m(schema, \u001b[38;5;28mtype\u001b[39m) \u001b[38;5;129;01mand\u001b[39;00m is_basemodel_subclass(schema):\n\u001b[1;32m   1240\u001b[0m     output_parser: OutputParserLike \u001b[38;5;241m=\u001b[39m PydanticToolsParser(\n\u001b[1;32m   1241\u001b[0m         tools\u001b[38;5;241m=\u001b[39m[cast(TypeBaseModel, schema)], first_tool_only\u001b[38;5;241m=\u001b[39m\u001b[38;5;28;01mTrue\u001b[39;00m\n\u001b[1;32m   1242\u001b[0m     )\n",
      "File \u001b[0;32m/DATA/acorn/anaconda3/envs/LangChain03Env/lib/python3.10/site-packages/langchain_core/language_models/chat_models.py:1115\u001b[0m, in \u001b[0;36mBaseChatModel.bind_tools\u001b[0;34m(self, tools, **kwargs)\u001b[0m\n\u001b[1;32m   1108\u001b[0m \u001b[38;5;28;01mdef\u001b[39;00m \u001b[38;5;21mbind_tools\u001b[39m(\n\u001b[1;32m   1109\u001b[0m     \u001b[38;5;28mself\u001b[39m,\n\u001b[1;32m   1110\u001b[0m     tools: Sequence[\n\u001b[0;32m   (...)\u001b[0m\n\u001b[1;32m   1113\u001b[0m     \u001b[38;5;241m*\u001b[39m\u001b[38;5;241m*\u001b[39mkwargs: Any,\n\u001b[1;32m   1114\u001b[0m ) \u001b[38;5;241m-\u001b[39m\u001b[38;5;241m>\u001b[39m Runnable[LanguageModelInput, BaseMessage]:\n\u001b[0;32m-> 1115\u001b[0m     \u001b[38;5;28;01mraise\u001b[39;00m \u001b[38;5;167;01mNotImplementedError\u001b[39;00m\n",
      "\u001b[0;31mNotImplementedError\u001b[0m: "
     ]
    }
   ],
   "source": [
    "# 의사 분류기 테스트\n",
    "clovaX_structed_llm = chat.with_structured_output(Response)\n",
    "result = clovaX_structed_llm.invoke(\"저번주에 로그인한 유저수\")"
   ]
  },
  {
   "cell_type": "code",
   "execution_count": null,
   "metadata": {},
   "outputs": [],
   "source": [
    "result"
   ]
  }
 ],
 "metadata": {
  "kernelspec": {
   "display_name": "LangChain03Env",
   "language": "python",
   "name": "python3"
  },
  "language_info": {
   "codemirror_mode": {
    "name": "ipython",
    "version": 3
   },
   "file_extension": ".py",
   "mimetype": "text/x-python",
   "name": "python",
   "nbconvert_exporter": "python",
   "pygments_lexer": "ipython3",
   "version": "3.10.15"
  }
 },
 "nbformat": 4,
 "nbformat_minor": 2
}
