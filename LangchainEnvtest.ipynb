{
 "cells": [
  {
   "cell_type": "code",
   "execution_count": 70,
   "metadata": {},
   "outputs": [],
   "source": [
    "from langchain import LLMChain\n",
    "from langchain.prompts import PromptTemplate\n",
    "from langchain.llms import HuggingFacePipeline\n",
    "from transformers import AutoTokenizer, AutoModelForCausalLM, pipeline\n",
    "import os\n",
    "from langchain_openai import ChatOpenAI\n",
    "\n",
    "llm = ChatOpenAI(\n",
    "    temperature=0.0,\n",
    "    max_tokens=300,\n",
    "    model=\"gpt-4o-mini\",\n",
    "    api_key=os.environ.get(\"OPENAI_API_KEY\")\n",
    ")\n",
    "\n",
    "# 프롬프트 템플릿 정의\n",
    "template = \"\"\"질문: {question}\n",
    "\n",
    "주의사항: 아래의 답변은 SQL 쿼리문으로만 작성됩니다. 다른 설명이나 답변 없이 SQL 쿼리문만 생성해 주세요.\n",
    "\n",
    "SQL 답변: \"\"\"\n",
    "prompt = PromptTemplate.from_template(template)\n",
    "\n",
    "# LLM Chain 객체 생성\n",
    "llm_chain = LLMChain(prompt=prompt, llm=llm)"
   ]
  },
  {
   "cell_type": "code",
   "execution_count": 71,
   "metadata": {},
   "outputs": [],
   "source": [
    "\n",
    "# 예시 질문 실행\n",
    "question = \"\"\"\n",
    "Table Schema\n",
    "ch_acq_TB (\n",
    "    event_date DATE, -- 이벤트 발생 날짜 (예: 20231016)\n",
    "    source_medium STRING, -- 유저 유입 경로 (UTM 기반) (예: youtube/video)\n",
    "    campaign STRING, -- 상세 이벤트명 (UTM 기반) (예: EastAfrica_Nov2022)\n",
    "    content STRING, -- 이벤트 내용 (UTM 기반) (예: girlseducation)\n",
    "    term STRING, -- 타겟팅 검색어 (예: 유저가 검색했으면 하는 검색어)\n",
    "    page_location STRING, -- 페이지 URL\n",
    "    user_id STRING, -- 정기 후원자 ID 또는 일시 후원자 ID (예: 2023102263)\n",
    "    session STRING, -- GA 세션 ID (예: user_pseudo_id + ga_session_id)\n",
    "    user STRING, -- 고유한 유저 ID (예: 110417617.169768)\n",
    "    page_bounce INTEGER, -- 페이지 이탈 횟수 (예: 0, 1, 2)\n",
    "    begin_checkout INTEGER, -- 후원 신청 페이지 도달 시 발생하는 이벤트 (예: null, 1)\n",
    "    regular_purchase STRING, -- 정기 후원 여부\n",
    "    once_purchase STRING, -- 일시 후원 여부\n",
    "    regular_value INTEGER, -- 정기 후원 금액\n",
    "    once_value INTEGER -- 일시 후원 금액\n",
    ");\n",
    "\n",
    "Generate an appropriate SQL query based on the question.\n",
    "Don’t hesitate to create subqueries if necessary.\n",
    "You can Answer Only SQL query.\n",
    "\n",
    "Question: 이번달 2일 youtube/video 후원수를 알려줘.\n",
    "    \n",
    "\"\"\""
   ]
  },
  {
   "cell_type": "code",
   "execution_count": 72,
   "metadata": {},
   "outputs": [],
   "source": [
    "def parse_sql_response(response: str) -> str:\n",
    "    # 'SQL 답변:' 이후의 텍스트만 추출\n",
    "    sql_start = response.find(\"SQL 답변:\")\n",
    "    if sql_start == -1:\n",
    "        return \"SQL 답변을 찾을 수 없습니다.\"\n",
    "    # 'SQL 답변:' 이후의 텍스트 반환\n",
    "    return response[sql_start + len(\"SQL 답변:\"):].strip()\n"
   ]
  },
  {
   "cell_type": "code",
   "execution_count": 73,
   "metadata": {},
   "outputs": [
    {
     "name": "stdout",
     "output_type": "stream",
     "text": [
      "```sql\n",
      "SELECT COUNT(*) AS donation_count\n",
      "FROM ch_acq_TB\n",
      "WHERE event_date = DATE_FORMAT(CURRENT_DATE(), '%Y-%m-02')\n",
      "  AND source_medium = 'youtube/video';\n",
      "```\n"
     ]
    }
   ],
   "source": [
    "response = llm_chain.run(question=question)\n",
    "print(response)"
   ]
  }
 ],
 "metadata": {
  "kernelspec": {
   "display_name": "LangChain03Env",
   "language": "python",
   "name": "python3"
  },
  "language_info": {
   "codemirror_mode": {
    "name": "ipython",
    "version": 3
   },
   "file_extension": ".py",
   "mimetype": "text/x-python",
   "name": "python",
   "nbconvert_exporter": "python",
   "pygments_lexer": "ipython3",
   "version": "3.10.15"
  }
 },
 "nbformat": 4,
 "nbformat_minor": 2
}
