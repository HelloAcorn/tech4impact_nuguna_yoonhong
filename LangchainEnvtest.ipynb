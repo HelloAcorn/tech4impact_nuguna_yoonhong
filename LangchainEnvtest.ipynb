{
 "cells": [
  {
   "cell_type": "code",
   "execution_count": 1,
   "metadata": {},
   "outputs": [
    {
     "name": "stderr",
     "output_type": "stream",
     "text": [
      "/DATA/acorn/anaconda3/envs/LangChain03Env/lib/python3.10/site-packages/tqdm/auto.py:21: TqdmWarning: IProgress not found. Please update jupyter and ipywidgets. See https://ipywidgets.readthedocs.io/en/stable/user_install.html\n",
      "  from .autonotebook import tqdm as notebook_tqdm\n",
      "Loading checkpoint shards: 100%|██████████| 4/4 [00:09<00:00,  2.49s/it]\n",
      "/DATA/acorn/anaconda3/envs/LangChain03Env/lib/python3.10/site-packages/transformers/generation/configuration_utils.py:590: UserWarning: `do_sample` is set to `False`. However, `temperature` is set to `0` -- this flag is only used in sample-based generation modes. You should set `do_sample=True` or unset `temperature`. This was detected when initializing the generation config instance, which means the corresponding file may hold incorrect parameterization and should be fixed.\n",
      "  warnings.warn(\n",
      "/DATA/acorn/anaconda3/envs/LangChain03Env/lib/python3.10/site-packages/transformers/generation/configuration_utils.py:590: UserWarning: `do_sample` is set to `False`. However, `temperature` is set to `0` -- this flag is only used in sample-based generation modes. You should set `do_sample=True` or unset `temperature`.\n",
      "  warnings.warn(\n",
      "/tmp/ipykernel_371477/971616367.py:21: LangChainDeprecationWarning: The class `HuggingFacePipeline` was deprecated in LangChain 0.0.37 and will be removed in 1.0. An updated version of the class exists in the :class:`~langchain-huggingface package and should be used instead. To use it run `pip install -U :class:`~langchain-huggingface` and import as `from :class:`~langchain_huggingface import HuggingFacePipeline``.\n",
      "  llm = HuggingFacePipeline(pipeline=pipe)\n",
      "/tmp/ipykernel_371477/971616367.py:32: LangChainDeprecationWarning: The class `LLMChain` was deprecated in LangChain 0.1.17 and will be removed in 1.0. Use :meth:`~RunnableSequence, e.g., `prompt | llm`` instead.\n",
      "  llm_chain = LLMChain(prompt=prompt, llm=llm)\n"
     ]
    }
   ],
   "source": [
    "from langchain import LLMChain\n",
    "from langchain.prompts import PromptTemplate\n",
    "from langchain.llms import HuggingFacePipeline\n",
    "from transformers import AutoTokenizer, AutoModelForCausalLM, pipeline\n",
    "\n",
    "# 모델 경로와 토크나이저 로드\n",
    "model_path = '/DATA/hub/models--defog--llama-3-sqlcoder-8b/snapshots/0f96d32e16737bda1bbe0d8fb13a932a8a3fa0bb'\n",
    "tokenizer = AutoTokenizer.from_pretrained(model_path)\n",
    "model = AutoModelForCausalLM.from_pretrained(model_path)\n",
    "\n",
    "# 파이프라인 객체 생성\n",
    "pipe = pipeline(\n",
    "    \"text-generation\",\n",
    "    model=model,\n",
    "    tokenizer=tokenizer,\n",
    "    device=1,  # GPU 사용, CPU는 -1\n",
    "    model_kwargs={\"temperature\": 0.0, \"max_length\": 200}\n",
    ")\n",
    "\n",
    "# HuggingFacePipeline 객체 생성\n",
    "llm = HuggingFacePipeline(pipeline=pipe)\n",
    "\n",
    "# 프롬프트 템플릿 정의\n",
    "template = \"\"\"질문: {question}\n",
    "\n",
    "주의사항: 아래의 답변은 SQL 쿼리문으로만 작성됩니다. 다른 설명이나 답변 없이 SQL 쿼리문만 생성해 주세요.\n",
    "\n",
    "SQL 답변: \"\"\"\n",
    "prompt = PromptTemplate.from_template(template)\n",
    "\n",
    "# LLM Chain 객체 생성\n",
    "llm_chain = LLMChain(prompt=prompt, llm=llm)"
   ]
  },
  {
   "cell_type": "code",
   "execution_count": 7,
   "metadata": {},
   "outputs": [],
   "source": [
    "\n",
    "# 예시 질문 실행\n",
    "question = \"\"\"\n",
    "Table Schema\n",
    "\n",
    "events (\n",
    "    event_date TEXT PRIMARY KEY, -- 이벤트가 발생한 날짜\n",
    "    event_timestamp INTEGER, -- 이벤트 타임스탬프\n",
    "    event_name TEXT, -- 이벤트 이름\n",
    "    event_params BLOB, -- 이벤트 파라미터 (JSON 데이터)\n",
    "    event_previous_timestamp INTEGER, -- 이전 이벤트 타임스탬프\n",
    "    event_value_in_usd REAL, -- 이벤트의 달러 기준 값\n",
    "    event_bundle_sequence_id INTEGER, -- 이벤트 번들 순서 ID\n",
    "    event_server_timestamp_offset INTEGER, -- 서버 타임스탬프 오프셋\n",
    "    user_id TEXT, -- 사용자 ID\n",
    "    user_pseudo_id TEXT, -- 가명 사용자 ID\n",
    "    privacy_info BLOB, -- 개인정보 관련 정보 (JSON 데이터)\n",
    "    user_properties BLOB, -- 사용자 속성 (JSON 데이터)\n",
    "    user_first_touch_timestamp INTEGER, -- 사용자가 처음으로 상호작용한 타임스탬프\n",
    "    user_ltv BLOB, -- 사용자의 수명 가치 정보 (JSON 데이터)\n",
    "    device BLOB, -- 장치 정보 (JSON 데이터)\n",
    "    geo BLOB, -- 지리 정보 (JSON 데이터)\n",
    "    app_info BLOB, -- 앱 정보 (JSON 데이터)\n",
    "    traffic_source BLOB, -- 트래픽 소스 정보 (JSON 데이터)\n",
    "    stream_id TEXT, -- 스트림 ID\n",
    "    platform TEXT, -- 플랫폼 (예: 웹, 모바일)\n",
    "    event_dimensions BLOB, -- 이벤트 차원 (JSON 데이터)\n",
    "    ecommerce BLOB, -- 전자상거래 정보 (JSON 데이터)\n",
    "    items BLOB, -- 관련된 상품 정보 (JSON 데이터)\n",
    "    collected_traffic_source BLOB, -- 수집된 트래픽 소스 (JSON 데이터)\n",
    "    is_active_user BOOLEAN, -- 활성 사용자 여부\n",
    "    batch_event_index INTEGER, -- 배치 이벤트 인덱스\n",
    "    batch_page_id INTEGER, -- 배치 페이지 ID\n",
    "    batch_ordering_id INTEGER, -- 배치 순서 ID\n",
    "    session_traffic_source_last_click BLOB, -- 세션의 마지막 클릭 소스 (JSON 데이터)\n",
    "    publisher BLOB -- 퍼블리셔 정보 (JSON 데이터) \n",
    ");\n",
    "\n",
    "landing_report (\n",
    "    event_date TEXT, -- 이벤트가 발생한 날짜\n",
    "    landing_page TEXT, -- 랜딩 페이지 URL\n",
    "    page_title TEXT, -- 랜딩 페이지 제목\n",
    "    source_medium TEXT, -- 소스/미디엄 (예: google/cpc)\n",
    "    source TEXT, -- 소스 (예: Google)\n",
    "    medium TEXT, -- 미디엄 (예: cpc)\n",
    "    campaign TEXT, -- 캠페인 이름\n",
    "    content TEXT, -- 콘텐츠 이름\n",
    "    term TEXT, -- 검색어\n",
    "    source_platform TEXT, -- 소스 플랫폼 (예: 웹, 모바일)\n",
    "    session TEXT, -- 세션 ID\n",
    "    host_name TEXT, -- 호스트 이름 (예: example.com)\n",
    "    user TEXT, -- 사용자 ID\n",
    "    new_user TEXT, -- 신규 사용자 여부\n",
    "    returning_user TEXT, -- 재방문 사용자 여부\n",
    "    regular_purchase TEXT, -- 정기 구매 여부\n",
    "    regular_user_id TEXT, -- 정기 구매 사용자 ID\n",
    "    once_purchase TEXT, -- 일회성 구매 여부\n",
    "    once_user_id TEXT, -- 일회성 구매 사용자 ID\n",
    "    regular_value INTEGER, -- 정기 구매 총액\n",
    "    once_value INTEGER -- 일회성 구매 총액 \n",
    ");\n",
    "\n",
    "Generate an appropriate SQL query based on the question.\n",
    "You can Answer Only SQL query.\n",
    "\n",
    "Question: 신규 사용자에 의한 특정 이벤트가 발생한 페이지 정보\n",
    "    \n",
    "\"\"\""
   ]
  },
  {
   "cell_type": "code",
   "execution_count": 8,
   "metadata": {},
   "outputs": [],
   "source": [
    "def parse_sql_response(response: str) -> str:\n",
    "    # 'SQL 답변:' 이후의 텍스트만 추출\n",
    "    sql_start = response.find(\"SQL 답변:\")\n",
    "    if sql_start == -1:\n",
    "        return \"SQL 답변을 찾을 수 없습니다.\"\n",
    "    # 'SQL 답변:' 이후의 텍스트 반환\n",
    "    return response[sql_start + len(\"SQL 답변:\"):].strip()\n"
   ]
  },
  {
   "cell_type": "code",
   "execution_count": 9,
   "metadata": {},
   "outputs": [
    {
     "name": "stderr",
     "output_type": "stream",
     "text": [
      "/DATA/acorn/anaconda3/envs/LangChain03Env/lib/python3.10/site-packages/transformers/generation/configuration_utils.py:590: UserWarning: `do_sample` is set to `False`. However, `temperature` is set to `0` -- this flag is only used in sample-based generation modes. You should set `do_sample=True` or unset `temperature`.\n",
      "  warnings.warn(\n",
      "Setting `pad_token_id` to `eos_token_id`:None for open-end generation.\n"
     ]
    },
    {
     "name": "stdout",
     "output_type": "stream",
     "text": [
      "SELECT l.landing_page, l.page_title, l.source_medium, l.source, l.medium, l.campaign, l.content, l.term, l.source_platform, l.session, l.host_name, l.user, l.new_user, l.returning_user, l.regular_purchase, l.regular_user_id, l.once_purchase, l.once_user_id, l.regular_value, l.once_value FROM landing_report l JOIN events e ON l.user = e.user_id WHERE e.event_name = 'purchase' AND l.new_user = 'yes';\n"
     ]
    }
   ],
   "source": [
    "response = llm_chain.run(question=question)\n",
    "parsed_sql = parse_sql_response(response)\n",
    "print(parsed_sql)"
   ]
  },
  {
   "cell_type": "code",
   "execution_count": 10,
   "metadata": {},
   "outputs": [
    {
     "name": "stdout",
     "output_type": "stream",
     "text": [
      "('/home', 'Product Page', 'facebook/organic', 'facebook', 'organic', 'lead_gen', 'welcome', 'discount', 'mobile', 'session_92', 'example.com', 'user_17', 'yes', 'no', 'yes', 'regular_40', 'no', None, 8, 0)\n",
      "('/checkout', 'Checkout Page', 'twitter/organic', 'twitter', 'organic', 'fall_campaign', 'new_post', 'holiday', 'desktop', 'session_7', 'example.com', 'user_43', 'yes', 'no', 'no', None, 'yes', 'once_30', 0, 34)\n",
      "('/home', 'Home Page', 'google/cpc', 'google', 'cpc', 'winter_sale', 'offer', 'discount', 'desktop', 'session_2', 'shoponline.com', 'user_61', 'yes', 'no', 'no', None, 'no', None, 0, 0)\n",
      "('/blog', 'Checkout Page', 'google/cpc', 'google', 'cpc', 'lead_gen', 'promo', 'blog', 'web', 'session_97', 'shoponline.com', 'user_14', 'yes', 'no', 'no', None, 'no', None, 0, 0)\n",
      "('/home', 'Product Page', 'google/cpc', 'google', 'cpc', 'blog_launch', 'offer', 'blog', 'mobile', 'session_60', 'example.com', 'user_61', 'yes', 'no', 'no', None, 'no', None, 0, 0)\n",
      "('/home', 'Checkout Page', 'google/cpc', 'google', 'cpc', 'fall_campaign', 'promo', 'b2b', 'desktop', 'session_18', 'example.com', 'user_64', 'yes', 'no', 'yes', 'regular_13', 'yes', 'once_94', 50, 42)\n",
      "('/pricing', 'Home Page', 'google/cpc', 'google', 'cpc', 'holiday_campaign', 'join', 'discount', 'web', 'session_71', 'example.com', 'user_45', 'yes', 'no', 'no', None, 'no', None, 0, 0)\n",
      "('/blog', 'Blog Page', 'email/newsletter', 'email', 'newsletter', 'lead_gen', 'welcome', 'discount', 'mobile', 'session_42', 'example.com', 'user_72', 'yes', 'no', 'yes', 'regular_28', 'yes', 'once_77', 65, 53)\n",
      "('/checkout', 'Pricing Page', 'email/newsletter', 'email', 'newsletter', 'holiday_campaign', 'welcome', 'search_term', 'desktop', 'session_19', 'example.com', 'user_64', 'yes', 'no', 'no', None, 'yes', 'once_18', 0, 78)\n",
      "('/home', 'Checkout Page', 'email/newsletter', 'email', 'newsletter', 'lead_gen', 'offer', 'blog', 'desktop', 'session_95', 'example.com', 'user_74', 'yes', 'no', 'yes', 'regular_99', 'no', None, 2, 0)\n",
      "('/home', 'Blog Page', 'email/newsletter', 'email', 'newsletter', 'holiday_campaign', 'join', 'holiday', 'web', 'session_77', 'shoponline.com', 'user_14', 'yes', 'no', 'no', None, 'yes', 'once_64', 0, 18)\n",
      "('/pricing', 'Product Page', 'google/cpc', 'google', 'cpc', 'lead_gen', 'promo', 'search_term', 'mobile', 'session_8', 'testsite.com', 'user_17', 'yes', 'no', 'yes', 'regular_22', 'no', None, 49, 0)\n",
      "('/blog', 'Blog Page', 'twitter/organic', 'twitter', 'organic', 'winter_sale', 'promo', 'holiday', 'mobile', 'session_91', 'example.com', 'user_61', 'yes', 'no', 'no', None, 'yes', 'once_54', 0, 34)\n",
      "('/product/1', 'Pricing Page', 'google/cpc', 'google', 'cpc', 'fall_campaign', 'promo', 'search_term', 'desktop', 'session_97', 'shoponline.com', 'user_72', 'yes', 'no', 'no', None, 'no', None, 0, 0)\n",
      "('/blog', 'Blog Page', 'email/newsletter', 'email', 'newsletter', 'blog_launch', 'offer', 'b2b', 'desktop', 'session_53', 'example.com', 'user_45', 'yes', 'no', 'yes', 'regular_19', 'yes', 'once_56', 55, 73)\n",
      "('/blog', 'Checkout Page', 'google/cpc', 'google', 'cpc', 'fall_campaign', 'welcome', 'discount', 'mobile', 'session_24', 'example.com', 'user_75', 'yes', 'no', 'no', None, 'yes', 'once_48', 0, 77)\n",
      "('/checkout', 'Pricing Page', 'facebook/organic', 'facebook', 'organic', 'fall_campaign', 'offer', 'blog', 'desktop', 'session_39', 'testsite.com', 'user_17', 'yes', 'no', 'yes', 'regular_91', 'no', None, 93, 0)\n",
      "('/blog', 'Checkout Page', 'google/cpc', 'google', 'cpc', 'blog_launch', 'offer', 'holiday', 'mobile', 'session_91', 'example.com', 'user_55', 'yes', 'no', 'yes', 'regular_33', 'no', None, 87, 0)\n",
      "('/product/1', 'Product Page', 'google/cpc', 'google', 'cpc', 'winter_sale', 'new_post', 'discount', 'mobile', 'session_86', 'example.com', 'user_14', 'yes', 'no', 'yes', 'regular_30', 'no', None, 64, 0)\n",
      "('/checkout', 'Blog Page', 'google/cpc', 'google', 'cpc', 'holiday_campaign', 'promo', 'blog', 'web', 'session_44', 'example.com', 'user_46', 'yes', 'no', 'no', None, 'no', None, 0, 0)\n",
      "('/checkout', 'Product Page', 'google/cpc', 'google', 'cpc', 'blog_launch', 'new_post', 'holiday', 'desktop', 'session_36', 'example.com', 'user_74', 'yes', 'no', 'no', None, 'no', None, 0, 0)\n",
      "('/blog', 'Pricing Page', 'google/cpc', 'google', 'cpc', 'blog_launch', 'welcome', 'blog', 'web', 'session_67', 'shoponline.com', 'user_61', 'yes', 'no', 'yes', 'regular_5', 'no', None, 11, 0)\n",
      "('/pricing', 'Checkout Page', 'google/cpc', 'google', 'cpc', 'lead_gen', 'offer', 'holiday', 'web', 'session_95', 'example.com', 'user_64', 'yes', 'no', 'yes', 'regular_82', 'no', None, 57, 0)\n",
      "('/pricing', 'Product Page', 'twitter/organic', 'twitter', 'organic', 'fall_campaign', 'join', 'holiday', 'mobile', 'session_33', 'testsite.com', 'user_46', 'yes', 'no', 'yes', 'regular_20', 'no', None, 73, 0)\n",
      "('/pricing', 'Product Page', 'facebook/organic', 'facebook', 'organic', 'fall_campaign', 'promo', 'b2b', 'mobile', 'session_89', 'shoponline.com', 'user_45', 'yes', 'no', 'no', None, 'yes', 'once_84', 0, 80)\n"
     ]
    }
   ],
   "source": [
    "import sqlite3\n",
    "\n",
    "# 데이터베이스 연결\n",
    "conn = sqlite3.connect('test_database.db')\n",
    "cursor = conn.cursor()\n",
    "\n",
    "# 쿼리 실행\n",
    "cursor.execute(parsed_sql)\n",
    "\n",
    "# 결과 가져오기\n",
    "result = cursor.fetchall()\n",
    "\n",
    "# 결과 출력\n",
    "for row in result:\n",
    "    print(row)\n",
    "# 연결 종료\n",
    "conn.close()\n"
   ]
  }
 ],
 "metadata": {
  "kernelspec": {
   "display_name": "LangChain03Env",
   "language": "python",
   "name": "python3"
  },
  "language_info": {
   "codemirror_mode": {
    "name": "ipython",
    "version": 3
   },
   "file_extension": ".py",
   "mimetype": "text/x-python",
   "name": "python",
   "nbconvert_exporter": "python",
   "pygments_lexer": "ipython3",
   "version": "3.10.15"
  }
 },
 "nbformat": 4,
 "nbformat_minor": 2
}
